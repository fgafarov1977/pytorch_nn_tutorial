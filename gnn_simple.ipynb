{
  "nbformat": 4,
  "nbformat_minor": 0,
  "metadata": {
    "colab": {
      "provenance": []
    },
    "kernelspec": {
      "name": "python3",
      "display_name": "Python 3"
    },
    "language_info": {
      "name": "python"
    }
  },
  "cells": [
    {
      "cell_type": "code",
      "execution_count": null,
      "metadata": {
        "id": "s734fdfHaj1J"
      },
      "outputs": [],
      "source": [
        "import torch\n",
        "from torch import nn\n",
        "class GCN(nn.Module):\n",
        "    def __init__(self, *sizes):\n",
        "        super().__init__()\n",
        "        self.layers = nn.ModuleList([nn.Linear(x, y) for x, y in zip(sizes[:-1], sizes[1:])])\n",
        "    def forward(self, vertices, edges):\n",
        "        # ----- Построение матрицы смежности -----\n",
        "        # Диагональная матрица (соединение узла с собой)\n",
        "        adj = torch.eye(len(vertices))\n",
        "        # ребра содержат соединенные вершины: [узел_0, узел_1]\n",
        "        adj[edges[:, 0], edges[:, 1]] = 1\n",
        "        adj[edges[:, 1], edges[:, 0]] = 1\n",
        "        # ----- Приямое распространие информации по слоям -----\n",
        "        for layer in self.layers:\n",
        "            vertices = torch.sigmoid(layer(adj @ vertices))\n",
        "        return vertices"
      ]
    }
  ]
}