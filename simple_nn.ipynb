{
  "nbformat": 4,
  "nbformat_minor": 0,
  "metadata": {
    "colab": {
      "provenance": []
    },
    "kernelspec": {
      "name": "python3",
      "display_name": "Python 3"
    },
    "language_info": {
      "name": "python"
    }
  },
  "cells": [
    {
      "cell_type": "code",
      "metadata": {
        "id": "WvKXQikpAnmw"
      },
      "source": [
        "import torch.nn as nn\n",
        "import torch.nn.functional as F\n",
        "class NN_sinleLayer(nn.Module):\n",
        "    def __init__(self):\n",
        "        super(NN_sinleLayer, self).__init__()\n",
        "        self.linear1 = nn.Linear(20, 5)\n",
        "\n",
        "    def forward(self, x):\n",
        "        x = F.relu(self.linear1(x))\n",
        "        return x"
      ],
      "execution_count": 1,
      "outputs": []
    },
    {
      "cell_type": "code",
      "metadata": {
        "id": "zuco_P1hBBAG"
      },
      "source": [
        "model=NN_sinleLayer()"
      ],
      "execution_count": 2,
      "outputs": []
    },
    {
      "cell_type": "code",
      "metadata": {
        "id": "8tEWhidKBVm8"
      },
      "source": [
        "import torch.nn as nn\n",
        "import torch.nn.functional as F\n",
        "\n",
        "class NN_MultiLayer(nn.Module):\n",
        "    def __init__(self):\n",
        "        super(NN_MultiLayer, self).__init__()\n",
        "        self.linear1 = nn.Linear(100, 50)\n",
        "        self.linear2 = nn.Linear(50, 20)\n",
        "        self.linear2 = nn.Linear(20, 1)\n",
        "\n",
        "    def forward(self, x):\n",
        "        x = F.relu(self.linear1(x))\n",
        "        x = F.relu(self.linear2(x))\n",
        "        x = F.relu(self.linear2(x))\n",
        "        return x"
      ],
      "execution_count": 3,
      "outputs": []
    },
    {
      "cell_type": "code",
      "metadata": {
        "id": "XWUuvbUBBVdj"
      },
      "source": [
        "model=NN_MultiLayer()"
      ],
      "execution_count": 4,
      "outputs": []
    },
    {
      "cell_type": "code",
      "metadata": {
        "colab": {
          "base_uri": "https://localhost:8080/"
        },
        "id": "EhH_Hol9EvE8",
        "outputId": "be2e1578-4f4f-4334-87c6-c4682883bfd8"
      },
      "source": [
        "model = nn.Sequential(\n",
        "    nn.Linear(10, 30),\n",
        "    nn.Sigmoid(),\n",
        "    nn.Linear(30, 2),\n",
        "    nn.Softmax()\n",
        ")\n",
        "print(model)"
      ],
      "execution_count": 5,
      "outputs": [
        {
          "output_type": "stream",
          "name": "stdout",
          "text": [
            "Sequential(\n",
            "  (0): Linear(in_features=10, out_features=30, bias=True)\n",
            "  (1): Sigmoid()\n",
            "  (2): Linear(in_features=30, out_features=2, bias=True)\n",
            "  (3): Softmax(dim=None)\n",
            ")\n"
          ]
        }
      ]
    },
    {
      "cell_type": "code",
      "metadata": {
        "id": "PXep-UWGMAW1"
      },
      "source": [
        "import torch\n",
        "\n",
        "N, D_in, H, D_out = 64, 1000, 100, 10\n",
        "\n",
        "x = torch.randn(N, D_in)\n",
        "y = torch.randn(N, D_out)\n",
        "\n",
        "model = torch.nn.Sequential(\n",
        "    torch.nn.Linear(D_in, H),\n",
        "    torch.nn.ReLU(),\n",
        "    torch.nn.Linear(H, D_out),\n",
        ")\n"
      ],
      "execution_count": 6,
      "outputs": []
    },
    {
      "cell_type": "code",
      "metadata": {
        "id": "MTdNhN-LRA5b"
      },
      "source": [
        "#Задаем функцию потерь\n",
        "loss_fn = torch.nn.MSELoss(reduction='sum')\n",
        "#шаг обучения\n",
        "learning_rate = 1e-4\n",
        "# создаем оптимизатор\n",
        "optimizer = torch.optim.Adam(model.parameters(), lr=learning_rate)\n",
        "#цикл обучения модели\n",
        "for t in range(500):\n",
        "    #вычисление выходных значений модели\n",
        "    y_pred = model(x)\n",
        "    #вычисление потерь\n",
        "    loss = loss_fn(y_pred, y)\n",
        "    #обнуляем градиенты\n",
        "    optimizer.zero_grad()\n",
        "    #обратное распространение ошибки\n",
        "    loss.backward()\n",
        "    #шаг оптимизатора\n",
        "    optimizer.step()"
      ],
      "execution_count": 7,
      "outputs": []
    }
  ]
}