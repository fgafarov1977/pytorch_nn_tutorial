{
  "nbformat": 4,
  "nbformat_minor": 0,
  "metadata": {
    "colab": {
      "provenance": []
    },
    "kernelspec": {
      "name": "python3",
      "display_name": "Python 3"
    },
    "language_info": {
      "name": "python"
    }
  },
  "cells": [
    {
      "cell_type": "code",
      "metadata": {
        "colab": {
          "base_uri": "https://localhost:8080/"
        },
        "id": "VzGj2JmTnjUb",
        "outputId": "592b94ad-67dd-461f-b0b9-07fc8423c7fa"
      },
      "source": [
        "import torch\n",
        "x = torch.randn(4, requires_grad=True)\n",
        "print('x=',x)\n",
        "y=torch.randn(4)\n",
        "print('y=',y)\n",
        "z = x + 2\n",
        "print('z=',z)\n",
        "t=y+2\n",
        "print('t=',t)\n",
        "print()\n",
        "\n",
        "x1 = torch.arange(6.0)\n",
        "print('x1=',x1)\n",
        "x1.requires_grad_(True)\n",
        "print('x1=',x1)\n"
      ],
      "execution_count": 1,
      "outputs": [
        {
          "output_type": "stream",
          "name": "stdout",
          "text": [
            "x= tensor([-1.9558,  0.7860, -0.3862, -0.1138], requires_grad=True)\n",
            "y= tensor([-0.0342, -1.8424,  0.7454, -0.4236])\n",
            "z= tensor([0.0442, 2.7860, 1.6138, 1.8862], grad_fn=<AddBackward0>)\n",
            "t= tensor([1.9658, 0.1576, 2.7454, 1.5764])\n",
            "\n",
            "x1= tensor([0., 1., 2., 3., 4., 5.])\n",
            "x1= tensor([0., 1., 2., 3., 4., 5.], requires_grad=True)\n"
          ]
        }
      ]
    },
    {
      "cell_type": "code",
      "metadata": {
        "colab": {
          "base_uri": "https://localhost:8080/"
        },
        "id": "hZX8mDL50tPU",
        "outputId": "f00d0ab1-a6b2-4f15-d7e1-ef9eb939d1f5"
      },
      "source": [
        "import torch\n",
        "x = torch.arange(6.0)\n",
        "x.requires_grad_(True)\n",
        "print('x=',x)\n",
        "print('x.grad=',x.grad)\n",
        "y = 2 * torch.dot(x, x)\n",
        "print('y=',y)\n",
        "y.backward()\n",
        "print('x.grad=',x.grad)\n",
        "print(x.grad == 4 * x)\n",
        "\n",
        "print('x.grad_fn=',x.grad_fn)\n",
        "print('y.grad_fn=',y.grad_fn)"
      ],
      "execution_count": 2,
      "outputs": [
        {
          "output_type": "stream",
          "name": "stdout",
          "text": [
            "x= tensor([0., 1., 2., 3., 4., 5.], requires_grad=True)\n",
            "x.grad= None\n",
            "y= tensor(110., grad_fn=<MulBackward0>)\n",
            "x.grad= tensor([ 0.,  4.,  8., 12., 16., 20.])\n",
            "tensor([True, True, True, True, True, True])\n",
            "x.grad_fn= None\n",
            "y.grad_fn= <MulBackward0 object at 0x7afd5d30e1a0>\n"
          ]
        }
      ]
    },
    {
      "cell_type": "code",
      "metadata": {
        "colab": {
          "base_uri": "https://localhost:8080/"
        },
        "id": "dI1cG3RzuDQO",
        "outputId": "88f1998a-ceb5-4cb4-bb21-b7f04eb1f31d"
      },
      "source": [
        "from torch.autograd import Variable\n",
        "x = Variable(torch.ones(2, 2), requires_grad=True)\n",
        "print(x)"
      ],
      "execution_count": 3,
      "outputs": [
        {
          "output_type": "stream",
          "name": "stdout",
          "text": [
            "tensor([[1., 1.],\n",
            "        [1., 1.]], requires_grad=True)\n"
          ]
        }
      ]
    },
    {
      "cell_type": "code",
      "metadata": {
        "colab": {
          "base_uri": "https://localhost:8080/"
        },
        "id": "JZiAn_FxqBWA",
        "outputId": "a0c49bdb-7fc4-4e8f-a5eb-752a0c5bb524"
      },
      "source": [
        "import torch\n",
        "x= torch.arange(5.0, requires_grad=True)\n",
        "print('x=',x)\n",
        "y = x * 8+15\n",
        "print('y=',y)\n",
        "print('y.shape=',y.shape)\n",
        "v = torch.tensor([1.0, 1.0, 1.0,1.0,1.0], dtype=torch.float32)\n",
        "y.backward(v)\n",
        "print('x.grad=',x.grad)"
      ],
      "execution_count": 4,
      "outputs": [
        {
          "output_type": "stream",
          "name": "stdout",
          "text": [
            "x= tensor([0., 1., 2., 3., 4.], requires_grad=True)\n",
            "y= tensor([15., 23., 31., 39., 47.], grad_fn=<AddBackward0>)\n",
            "y.shape= torch.Size([5])\n",
            "x.grad= tensor([8., 8., 8., 8., 8.])\n"
          ]
        }
      ]
    },
    {
      "cell_type": "code",
      "metadata": {
        "colab": {
          "base_uri": "https://localhost:8080/"
        },
        "id": "HcESOv0irFes",
        "outputId": "1a211ffc-e095-4b6c-bd31-d46c06561594"
      },
      "source": [
        "print('.requires_grad_(False)')\n",
        "a = torch.randn(2, 2,requires_grad=True)\n",
        "print('a=',a)\n",
        "a.requires_grad_(False)\n",
        "print('a=',a)\n",
        "\n",
        "print()\n",
        "print(' .detach():')\n",
        "a = torch.randn(3, 2, requires_grad=True)\n",
        "print('a=',a)\n",
        "b = a.detach()\n",
        "print('b=',b)\n",
        "\n",
        "print()\n",
        "print('with torch.no_grad():')\n",
        "a = torch.randn(5, 5, requires_grad=True)\n",
        "print(a.requires_grad)\n",
        "with torch.no_grad():\n",
        "    print((x ** 2).requires_grad)\n",
        "print(a.requires_grad)"
      ],
      "execution_count": 5,
      "outputs": [
        {
          "output_type": "stream",
          "name": "stdout",
          "text": [
            ".requires_grad_(False)\n",
            "a= tensor([[0.1223, 1.5903],\n",
            "        [0.6799, 0.7948]], requires_grad=True)\n",
            "a= tensor([[0.1223, 1.5903],\n",
            "        [0.6799, 0.7948]])\n",
            "\n",
            " .detach():\n",
            "a= tensor([[ 0.3019, -1.0463],\n",
            "        [-0.8104, -0.3468],\n",
            "        [ 0.2766,  0.6722]], requires_grad=True)\n",
            "b= tensor([[ 0.3019, -1.0463],\n",
            "        [-0.8104, -0.3468],\n",
            "        [ 0.2766,  0.6722]])\n",
            "\n",
            "with torch.no_grad():\n",
            "True\n",
            "False\n",
            "True\n"
          ]
        }
      ]
    },
    {
      "cell_type": "code",
      "metadata": {
        "colab": {
          "base_uri": "https://localhost:8080/"
        },
        "id": "OCGpGpbRsCLH",
        "outputId": "312984e3-3ba3-4227-fc17-f81e16c00b82"
      },
      "source": [
        "weights = torch.ones(4, requires_grad=True)\n",
        "for epoch in range(3):\n",
        "    model_output = (weights*3).sum()\n",
        "    model_output.backward()\n",
        "    print(weights.grad)\n",
        "    with torch.no_grad():\n",
        "        weights -= 0.1 * weights.grad\n",
        "    weights.grad.zero_()\n",
        "print(weights)\n",
        "print(model_output)\n"
      ],
      "execution_count": 6,
      "outputs": [
        {
          "output_type": "stream",
          "name": "stdout",
          "text": [
            "tensor([3., 3., 3., 3.])\n",
            "tensor([3., 3., 3., 3.])\n",
            "tensor([3., 3., 3., 3.])\n",
            "tensor([0.1000, 0.1000, 0.1000, 0.1000], requires_grad=True)\n",
            "tensor(4.8000, grad_fn=<SumBackward0>)\n"
          ]
        }
      ]
    }
  ]
}