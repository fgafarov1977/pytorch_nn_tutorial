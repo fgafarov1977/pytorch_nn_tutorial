{
  "cells": [
    {
      "cell_type": "code",
      "execution_count": 3,
      "metadata": {
        "id": "_aYzDFcyeL1Q"
      },
      "outputs": [],
      "source": [
        "import torch\n",
        "# f = w * x\n",
        "# f = 3 * x\n",
        "X_data = torch.tensor([1, 2, 3, 4], dtype=torch.float32)\n",
        "Y_data = torch.tensor([3, 6, 9, 12], dtype=torch.float32)\n",
        "w = torch.tensor(0.0, dtype=torch.float32, requires_grad=True)\n",
        "# model\n",
        "def calculate_output(x):\n",
        "    return w * x\n",
        "# loss\n",
        "#MSE = 1/N * (w*x - y)**2\n",
        "def calculate_loss(y, y_pred):\n",
        "    return ((y_pred - y)**2).mean()"
      ]
    },
    {
      "cell_type": "code",
      "execution_count": 4,
      "metadata": {
        "colab": {
          "base_uri": "https://localhost:8080/"
        },
        "id": "ClIANhpPh3HG",
        "outputId": "a4aadc84-6c25-42d1-8c79-25d609069288"
      },
      "outputs": [
        {
          "name": "stdout",
          "output_type": "stream",
          "text": [
            "Inintial peediction: f(5) = 0.000\n",
            "Epoch 1: w = 0.900, loss = 67.50000000\n",
            "Epoch 6: w = 2.647, loss = 1.90670800\n",
            "Epoch 11: w = 2.941, loss = 0.05385974\n",
            "Epoch 16: w = 2.990, loss = 0.00152141\n",
            "Epoch 21: w = 2.998, loss = 0.00004297\n",
            "Epoch 26: w = 3.000, loss = 0.00000121\n",
            "Epoch 31: w = 3.000, loss = 0.00000003\n",
            "Epoch 36: w = 3.000, loss = 0.00000000\n",
            "Epoch 41: w = 3.000, loss = 0.00000000\n",
            "Epoch 46: w = 3.000, loss = 0.00000000\n",
            "Periction after model training: f(5) = 15.000\n"
          ]
        }
      ],
      "source": [
        "print(f'Inintial peediction: f(5) = {calculate_output(5).item():.3f}')\n",
        "# model training\n",
        "learning_rate = 0.02\n",
        "n_iters = 50\n",
        "for epoch in range(n_iters):\n",
        "    y_pred = calculate_output(X_data)\n",
        "    loss = calculate_loss(Y_data, y_pred)\n",
        "    loss.backward()\n",
        "    with torch.no_grad():\n",
        "        w -= learning_rate * w.grad\n",
        "    w.grad.zero_()\n",
        "    if epoch % 5 == 0:\n",
        "        print(f'Epoch {epoch+1}: w = {w.item():.3f}, loss = {loss.item():.8f}')\n",
        "\n",
        "print(f'Periction after model training: f(5) = {calculate_output(5).item():.3f}')"
      ]
    }
  ],
  "metadata": {
    "colab": {
      "provenance": []
    },
    "kernelspec": {
      "display_name": "Python 3",
      "name": "python3"
    },
    "language_info": {
      "name": "python"
    }
  },
  "nbformat": 4,
  "nbformat_minor": 0
}
