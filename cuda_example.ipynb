{
  "nbformat": 4,
  "nbformat_minor": 0,
  "metadata": {
    "colab": {
      "provenance": [],
      "gpuType": "T4"
    },
    "kernelspec": {
      "name": "python3",
      "display_name": "Python 3"
    },
    "language_info": {
      "name": "python"
    },
    "accelerator": "GPU"
  },
  "cells": [
    {
      "cell_type": "code",
      "execution_count": 1,
      "metadata": {
        "id": "MKziPRVis3f4"
      },
      "outputs": [],
      "source": [
        "import torch"
      ]
    },
    {
      "cell_type": "code",
      "source": [
        "import torch\n",
        "#By default, the tensor is created in the CPU\n",
        "x=torch.ones(3,4)\n",
        "print('x=',x)\n",
        "#If a CUDA device is available\n",
        "if torch.cuda.is_available():\n",
        "  #then move it to the \"cuda\" device\n",
        "  device = torch.device(\"cuda\")\n",
        "  x = x.to(device)\n",
        "  # create a tensor y on the cuda device\n",
        "  y=torch.ones_like(x, device=device)\n",
        "  # perform the addition of tensors x and y\n",
        "  z = x + y\n",
        "  #displaying tensors\n",
        "  print('x=',x)\n",
        "  print('y=',y)\n",
        "  print('z=',z)"
      ],
      "metadata": {
        "colab": {
          "base_uri": "https://localhost:8080/"
        },
        "id": "hYFkknEvs8r4",
        "outputId": "fdf98375-aef3-40dd-aa86-3f41515af156"
      },
      "execution_count": 2,
      "outputs": [
        {
          "output_type": "stream",
          "name": "stdout",
          "text": [
            "x= tensor([[1., 1., 1., 1.],\n",
            "        [1., 1., 1., 1.],\n",
            "        [1., 1., 1., 1.]])\n",
            "x= tensor([[1., 1., 1., 1.],\n",
            "        [1., 1., 1., 1.],\n",
            "        [1., 1., 1., 1.]], device='cuda:0')\n",
            "y= tensor([[1., 1., 1., 1.],\n",
            "        [1., 1., 1., 1.],\n",
            "        [1., 1., 1., 1.]], device='cuda:0')\n",
            "z= tensor([[2., 2., 2., 2.],\n",
            "        [2., 2., 2., 2.],\n",
            "        [2., 2., 2., 2.]], device='cuda:0')\n"
          ]
        }
      ]
    },
    {
      "cell_type": "code",
      "source": [
        "import torch\n",
        "import time\n",
        "a=1000\n",
        "x= torch.ones(a,a)\n",
        "y= torch.ones(a,a)\n",
        "res=torch.zeros(a,a)\n",
        "t1 = time.perf_counter()\n",
        "for i in range (a):\n",
        "  for j in range(a):\n",
        "    row=x[i,:]\n",
        "    col=y[:,j]\n",
        "    res[i,j]=torch.sum(row*col)\n",
        "t2 = time.perf_counter()\n",
        "print('время вычисления:',t2-t1)"
      ],
      "metadata": {
        "colab": {
          "base_uri": "https://localhost:8080/"
        },
        "id": "kyO6kmGhty1S",
        "outputId": "ec9076db-b911-4ad8-e47b-c26b4a64e5c9"
      },
      "execution_count": 3,
      "outputs": [
        {
          "output_type": "stream",
          "name": "stdout",
          "text": [
            "время вычисления: 34.854520448\n"
          ]
        }
      ]
    },
    {
      "cell_type": "code",
      "source": [
        "t1 = time.perf_counter()\n",
        "z=torch.mm(x,y)\n",
        "t2 = time.perf_counter()\n",
        "print('время вычисления:',t2-t1)"
      ],
      "metadata": {
        "colab": {
          "base_uri": "https://localhost:8080/"
        },
        "id": "8lZq1tAOuAWl",
        "outputId": "4f6d5810-cde7-4663-a348-859bec1efc2e"
      },
      "execution_count": 4,
      "outputs": [
        {
          "output_type": "stream",
          "name": "stdout",
          "text": [
            "время вычисления: 0.04284123399999373\n"
          ]
        }
      ]
    },
    {
      "cell_type": "code",
      "source": [
        "x_gpu=x.to('cuda')\n",
        "y_gpu=y.to('cuda')\n",
        "t1 = time.perf_counter()\n",
        "torch.mm(x_gpu,y_gpu)\n",
        "t2 = time.perf_counter()\n",
        "print('время вычисления:',t2-t1)"
      ],
      "metadata": {
        "colab": {
          "base_uri": "https://localhost:8080/"
        },
        "id": "8sTCbgVzuCpB",
        "outputId": "a58f9d57-968d-41c5-f67e-cc38076d3ec6"
      },
      "execution_count": 5,
      "outputs": [
        {
          "output_type": "stream",
          "name": "stdout",
          "text": [
            "время вычисления: 0.0965057800000011\n"
          ]
        }
      ]
    }
  ]
}