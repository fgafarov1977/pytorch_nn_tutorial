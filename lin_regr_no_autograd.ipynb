{
  "nbformat": 4,
  "nbformat_minor": 0,
  "metadata": {
    "colab": {
      "provenance": []
    },
    "kernelspec": {
      "name": "python3",
      "display_name": "Python 3"
    },
    "language_info": {
      "name": "python"
    }
  },
  "cells": [
    {
      "cell_type": "code",
      "metadata": {
        "id": "JZxTyJXJaJFM"
      },
      "source": [
        "import numpy as np\n",
        "# f = w * x\n",
        "# f = 3 * x\n",
        "X_data = np.array([1, 2, 3, 4], dtype=np.float32)\n",
        "Y_data = np.array([3, 6, 9, 12], dtype=np.float32)\n",
        "w = 0.0\n",
        "# model\n",
        "def calculate_output(x):\n",
        "    return w * x\n",
        "# loss function\n",
        "#MSE = 1/N * (w*x - y)**2\n",
        "def calculate_loss(y, y_pred):\n",
        "    return ((y_pred - y)**2).mean()\n",
        "# gradient\n",
        "# dJ/dw = 1/N * 2x(w*x - y)\n",
        "def calculate_gradient(x, y, y_pred):\n",
        "    return np.dot(2*x, y_pred - y).mean()\n",
        "\n"
      ],
      "execution_count": 1,
      "outputs": []
    },
    {
      "cell_type": "code",
      "metadata": {
        "colab": {
          "base_uri": "https://localhost:8080/"
        },
        "id": "4brXuOl6cg8_",
        "outputId": "7468fced-752b-406d-b7e6-8592ad8b5bf3"
      },
      "source": [
        "print(f'Inintial peediction : f(5) = {calculate_output(5):.3f}')\n",
        "# model training\n",
        "learning_rate = 0.02\n",
        "n_iters = 15\n",
        "for epoch in range(n_iters):\n",
        "    # calculation of output value (prediction)\n",
        "    y_pred = calculate_output(X_data)\n",
        "    # loss calculation\n",
        "    loss = calculate_loss(Y_data, y_pred)\n",
        "    # gradient calculation\n",
        "    dw = calculate_gradient(X_data, Y_data, y_pred)\n",
        "    # update the value of the parameter w\n",
        "    w -= learning_rate * dw\n",
        "    if epoch % 2 == 0:\n",
        "        print(f'Epoch {epoch+1}: w = {w:.3f}, loss = {loss:.8f}')\n",
        "\n",
        "print(f'Periction after model training: f(5) = {calculate_output(5):.3f}')"
      ],
      "execution_count": 2,
      "outputs": [
        {
          "output_type": "stream",
          "name": "stdout",
          "text": [
            "Inintial peediction : f(5) = 0.000\n",
            "Epoch 1: w = 3.600, loss = 67.50000000\n",
            "Epoch 3: w = 3.024, loss = 0.10799979\n",
            "Epoch 5: w = 3.001, loss = 0.00017279\n",
            "Epoch 7: w = 3.000, loss = 0.00000028\n",
            "Epoch 9: w = 3.000, loss = 0.00000000\n",
            "Epoch 11: w = 3.000, loss = 0.00000000\n",
            "Epoch 13: w = 3.000, loss = 0.00000000\n",
            "Epoch 15: w = 3.000, loss = 0.00000000\n",
            "Periction after model training: f(5) = 15.000\n"
          ]
        }
      ]
    }
  ]
}