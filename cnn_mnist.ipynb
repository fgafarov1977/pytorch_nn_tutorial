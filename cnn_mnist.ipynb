{
  "cells": [
    {
      "cell_type": "code",
      "execution_count": 11,
      "metadata": {
        "id": "AmLFjKmiucpb"
      },
      "outputs": [],
      "source": [
        "import torch\n",
        "import torch.nn as nn\n",
        "import torch.nn.functional as F\n",
        "import torch.optim as optim\n",
        "from torchvision import datasets, transforms\n",
        "class Net(nn.Module):\n",
        "    def __init__(self):\n",
        "        super(Net, self).__init__()\n",
        "        self.conv1 = nn.Conv2d(1, 32, 3, 1)\n",
        "        self.conv2 = nn.Conv2d(32, 64, 3, 1)\n",
        "        self.dropout1 = nn.Dropout(0.25)\n",
        "        self.dropout2 = nn.Dropout(0.5)\n",
        "        self.fc1 = nn.Linear(9216, 128)\n",
        "        self.fc2 = nn.Linear(128, 10)\n",
        "\n",
        "    def forward(self, x):\n",
        "        x = self.conv1(x)\n",
        "        x = F.relu(x)\n",
        "        x = self.conv2(x)\n",
        "        x = F.relu(x)\n",
        "        x = F.max_pool2d(x, 2)\n",
        "        x = self.dropout1(x)\n",
        "        x = torch.flatten(x, 1)\n",
        "        x = self.fc1(x)\n",
        "        x = F.relu(x)\n",
        "        x = self.dropout2(x)\n",
        "        x = self.fc2(x)\n",
        "        output = F.log_softmax(x, dim=1)\n",
        "        return output"
      ]
    },
    {
      "cell_type": "code",
      "execution_count": 12,
      "metadata": {
        "id": "F-XRAUdTuet8"
      },
      "outputs": [],
      "source": [
        "def train(model, device, train_loader, optimizer, epoch):\n",
        "    model.train()\n",
        "    for batch_idx, (data, target) in enumerate(train_loader):\n",
        "        data, target = data.to(device), target.to(device)\n",
        "        optimizer.zero_grad()\n",
        "        output = model(data)\n",
        "        loss = F.nll_loss(output, target)\n",
        "        loss.backward()\n",
        "        optimizer.step()\n"
      ]
    },
    {
      "cell_type": "code",
      "execution_count": 13,
      "metadata": {
        "id": "XXo67R3gujPx"
      },
      "outputs": [],
      "source": [
        "def test(model, device, test_loader):\n",
        "    model.eval()\n",
        "    test_loss = 0\n",
        "    correct = 0\n",
        "    with torch.no_grad():\n",
        "        for data, target in test_loader:\n",
        "            data, target = data.to(device), target.to(device)\n",
        "            output = model(data)\n",
        "            test_loss += F.nll_loss(output, target, reduction='sum').item()\n",
        "            pred = output.argmax(dim=1, keepdim=True)\n",
        "            correct += pred.eq(target.view_as(pred)).sum().item()\n",
        "\n",
        "    test_loss /= len(test_loader.dataset)\n",
        "    print('\\nTest set: Average loss: {:.4f}, Accuracy: {}/{} ({:.0f}%)\\n'.format(\n",
        "        test_loss, correct, len(test_loader.dataset),\n",
        "        100. * correct / len(test_loader.dataset)))"
      ]
    },
    {
      "cell_type": "code",
      "execution_count": 14,
      "metadata": {
        "colab": {
          "base_uri": "https://localhost:8080/"
        },
        "id": "e70ReSmGun54",
        "outputId": "20662d6f-4cbd-4eb9-d584-1e41fa86f642"
      },
      "outputs": [
        {
          "name": "stdout",
          "output_type": "stream",
          "text": [
            "Epoch:1\n",
            "\n",
            "Test set: Average loss: 0.3556, Accuracy: 8981/10000 (90%)\n",
            "\n",
            "Epoch:2\n",
            "\n",
            "Test set: Average loss: 0.2557, Accuracy: 9261/10000 (93%)\n",
            "\n",
            "Epoch:3\n",
            "\n",
            "Test set: Average loss: 0.2162, Accuracy: 9356/10000 (94%)\n",
            "\n",
            "Epoch:4\n",
            "\n",
            "Test set: Average loss: 0.1906, Accuracy: 9434/10000 (94%)\n",
            "\n",
            "Epoch:5\n",
            "\n",
            "Test set: Average loss: 0.1690, Accuracy: 9494/10000 (95%)\n",
            "\n",
            "Epoch:6\n",
            "\n",
            "Test set: Average loss: 0.1528, Accuracy: 9530/10000 (95%)\n",
            "\n",
            "Epoch:7\n",
            "\n",
            "Test set: Average loss: 0.1395, Accuracy: 9573/10000 (96%)\n",
            "\n",
            "Epoch:8\n",
            "\n",
            "Test set: Average loss: 0.1271, Accuracy: 9606/10000 (96%)\n",
            "\n",
            "Epoch:9\n",
            "\n",
            "Test set: Average loss: 0.1178, Accuracy: 9620/10000 (96%)\n",
            "\n"
          ]
        }
      ],
      "source": [
        "use_cuda =True\n",
        "if use_cuda:\n",
        "  device = torch.device(\"cuda\")\n",
        "else:\n",
        "  device = torch.device(\"cpu\")\n",
        "batch_size=128\n",
        "transform=transforms.Compose([\n",
        "        transforms.ToTensor(),\n",
        "        transforms.Normalize((0.1307,), (0.3081,))\n",
        "        ])\n",
        "dataset1 = datasets.MNIST('../data', train=True, download=True, transform=transform)\n",
        "dataset2 = datasets.MNIST('../data', train=False, transform=transform)\n",
        "train_loader = torch.utils.data.DataLoader(dataset1,batch_size=batch_size)\n",
        "test_loader = torch.utils.data.DataLoader(dataset2,batch_size=batch_size)\n",
        "\n",
        "model = Net().to(device)\n",
        "\n",
        "optimizer = optim.Adadelta(model.parameters(), lr=0.01)\n",
        "\n",
        "for epoch in range(1, 10):\n",
        "    print('Epoch:'+str(epoch))\n",
        "    train(model, device, train_loader, optimizer, epoch)\n",
        "    test(model, device, test_loader)\n"
      ]
    }
  ],
  "metadata": {
    "accelerator": "GPU",
    "colab": {
      "provenance": []
    },
    "gpuClass": "standard",
    "kernelspec": {
      "display_name": "Python 3",
      "name": "python3"
    },
    "language_info": {
      "name": "python"
    }
  },
  "nbformat": 4,
  "nbformat_minor": 0
}
